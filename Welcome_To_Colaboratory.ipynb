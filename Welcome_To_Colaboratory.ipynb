{
  "cells": [
    {
      "cell_type": "markdown",
      "source": [
        "# Import Dependencies"
      ],
      "metadata": {
        "id": "Df_AOKsx2oUZ"
      }
    },
    {
      "cell_type": "code",
      "execution_count": 2,
      "metadata": {
        "id": "H5ZKhBGqGjDO"
      },
      "outputs": [],
      "source": [
        "import tensorflow as tf\n",
        "import os\n",
        "import matplotlib.pyplot as plt\n",
        "import numpy as np\n",
        "import cv2\n",
        "import imghdr"
      ]
    },
    {
      "cell_type": "code",
      "execution_count": 3,
      "metadata": {
        "id": "5ys4QMK1GCTz",
        "colab": {
          "base_uri": "https://localhost:8080/"
        },
        "outputId": "2de061f3-dda5-4f0c-a657-b4de14e21441"
      },
      "outputs": [
        {
          "output_type": "stream",
          "name": "stdout",
          "text": [
            "Mounted at /content/drive\n",
            "Drive already mounted at /content/drive; to attempt to forcibly remount, call drive.mount(\"/content/drive\", force_remount=True).\n"
          ]
        }
      ],
      "source": [
        "from google.colab import drive\n",
        "drive.mount('/content/drive')"
      ]
    },
    {
      "cell_type": "code",
      "execution_count": 191,
      "metadata": {
        "id": "crhPIcC5HuU9"
      },
      "outputs": [],
      "source": [
        "gpus =  tf.config.experimental.list_physical_devices('GPU')\n",
        "for gpu in gpus:\n",
        "  tf.config.experimental.set_memory_growth(gpu, True)"
      ]
    },
    {
      "cell_type": "code",
      "execution_count": 192,
      "metadata": {
        "id": "_eveXGsOOCfh",
        "colab": {
          "base_uri": "https://localhost:8080/"
        },
        "outputId": "15bc2c96-ac21-4c98-c94f-0af5df3e5f20"
      },
      "outputs": [
        {
          "output_type": "stream",
          "name": "stdout",
          "text": [
            "plastic: 482 samples\n",
            "paper: 594 samples\n",
            "metal: 410 samples\n",
            "glass: 501 samples\n",
            "cardboard: 403 samples\n",
            "trash: 137 samples\n"
          ]
        }
      ],
      "source": [
        "data_dir = 'drive/MyDrive/projects/GarbageDatasets'\n",
        "def number_samples(data_dir = data_dir):\n",
        "  for i in os.listdir(data_dir):\n",
        "    categorie = os.listdir(os.path.join(data_dir, i))\n",
        "    print(f'{i}: {len(categorie)} samples')\n",
        "number_samples()"
      ]
    },
    {
      "cell_type": "markdown",
      "metadata": {
        "id": "iYFFGjqpMC3V"
      },
      "source": [
        "# Load Data"
      ]
    },
    {
      "cell_type": "code",
      "execution_count": 194,
      "metadata": {
        "id": "iWpWtzHUOCh6",
        "colab": {
          "base_uri": "https://localhost:8080/"
        },
        "outputId": "540ba2c9-b850-494a-9dbc-51266bdf9a0f"
      },
      "outputs": [
        {
          "output_type": "stream",
          "name": "stdout",
          "text": [
            "Found 2527 files belonging to 6 classes.\n"
          ]
        }
      ],
      "source": [
        "data = tf.keras.utils.image_dataset_from_directory(data_dir,\n",
        "                                                   image_size=(256, 256),\n",
        "                                                   batch_size=32,\n",
        "                                                   label_mode='categorical')"
      ]
    },
    {
      "cell_type": "markdown",
      "metadata": {
        "id": "-PZFeKPVv9FP"
      },
      "source": [
        "# Preprocessing"
      ]
    },
    {
      "cell_type": "code",
      "execution_count": 193,
      "metadata": {
        "id": "mWOtbatrpHpq"
      },
      "outputs": [],
      "source": [
        "#Scale Data\n",
        "data = data.map(lambda x,y: (x/255, y))"
      ]
    },
    {
      "cell_type": "code",
      "execution_count": 11,
      "metadata": {
        "id": "txW0q7tzlmY5"
      },
      "outputs": [],
      "source": [
        "data_iterator = data.as_numpy_iterator()\n",
        "batch = data_iterator.next()"
      ]
    },
    {
      "cell_type": "code",
      "execution_count": 12,
      "metadata": {
        "id": "bIWZkF6alp1J"
      },
      "outputs": [],
      "source": [
        "train_size = int(len(data) * 0.7)\n",
        "val_size   = int(len(data) * 0.2) + 1\n",
        "test_size  = int(len(data) * 0.1) + 1"
      ]
    },
    {
      "cell_type": "code",
      "execution_count": 13,
      "metadata": {
        "id": "hjFWVtnjpmaW"
      },
      "outputs": [],
      "source": [
        "train = data.take(train_size)\n",
        "val   = data.skip(train_size).take(val_size)\n",
        "test  = data.skip(train_size + val_size).take(test_size)"
      ]
    },
    {
      "cell_type": "markdown",
      "metadata": {
        "id": "rc-THkL68RVy"
      },
      "source": [
        "# The model\n"
      ]
    },
    {
      "cell_type": "code",
      "execution_count": 72,
      "metadata": {
        "id": "Dcn3akaspmTj"
      },
      "outputs": [],
      "source": [
        "from tensorflow.keras.models import Sequential\n",
        "from tensorflow.keras.layers import Conv2D, MaxPooling2D, Flatten, Dense, BatchNormalization, Dropout"
      ]
    },
    {
      "cell_type": "code",
      "execution_count": 90,
      "metadata": {
        "id": "A0cN-SAn5-fj"
      },
      "outputs": [],
      "source": [
        "#Create the model\n",
        "model = Sequential()\n",
        "\n",
        "model.add(Conv2D(16, (3,3), 1 , activation='relu', input_shape = (256, 256, 3)))\n",
        "model.add(BatchNormalization())\n",
        "model.add(MaxPooling2D())\n",
        "\n",
        "model.add(Conv2D(32, (3,3), 1 , activation= 'relu'))\n",
        "model.add(BatchNormalization())\n",
        "model.add(MaxPooling2D())\n",
        "\n",
        "model.add(Conv2D(16, (3,3), 1 , activation= 'relu'))\n",
        "model.add(BatchNormalization())\n",
        "model.add(MaxPooling2D())\n",
        "\n",
        "model.add(Flatten())\n",
        "\n",
        "model.add(Dense(256, activation='relu'))\n",
        "model.add(Dropout(0.5))  # Add dropout with a 50% dropout rate\n",
        "model.add(Dense(6, activation='softmax'))\n",
        "# compile the model\n",
        "model.compile(\n",
        "    optimizer='adam',\n",
        "    loss=tf.losses.CategoricalCrossentropy(),\n",
        "    metrics = ['accuracy'])"
      ]
    },
    {
      "cell_type": "code",
      "execution_count": 91,
      "metadata": {
        "id": "TkQHHLBiEzg4",
        "colab": {
          "base_uri": "https://localhost:8080/"
        },
        "outputId": "cc10ed9b-43e8-40bb-d242-c7cd81d95a1c"
      },
      "outputs": [
        {
          "output_type": "stream",
          "name": "stdout",
          "text": [
            "Model: \"sequential_4\"\n",
            "_________________________________________________________________\n",
            " Layer (type)                Output Shape              Param #   \n",
            "=================================================================\n",
            " conv2d_10 (Conv2D)          (None, 254, 254, 16)      448       \n",
            "                                                                 \n",
            " batch_normalization_6 (Batc  (None, 254, 254, 16)     64        \n",
            " hNormalization)                                                 \n",
            "                                                                 \n",
            " max_pooling2d_9 (MaxPooling  (None, 127, 127, 16)     0         \n",
            " 2D)                                                             \n",
            "                                                                 \n",
            " conv2d_11 (Conv2D)          (None, 125, 125, 32)      4640      \n",
            "                                                                 \n",
            " batch_normalization_7 (Batc  (None, 125, 125, 32)     128       \n",
            " hNormalization)                                                 \n",
            "                                                                 \n",
            " max_pooling2d_10 (MaxPoolin  (None, 62, 62, 32)       0         \n",
            " g2D)                                                            \n",
            "                                                                 \n",
            " conv2d_12 (Conv2D)          (None, 60, 60, 16)        4624      \n",
            "                                                                 \n",
            " batch_normalization_8 (Batc  (None, 60, 60, 16)       64        \n",
            " hNormalization)                                                 \n",
            "                                                                 \n",
            " max_pooling2d_11 (MaxPoolin  (None, 30, 30, 16)       0         \n",
            " g2D)                                                            \n",
            "                                                                 \n",
            " flatten_3 (Flatten)         (None, 14400)             0         \n",
            "                                                                 \n",
            " dense_6 (Dense)             (None, 256)               3686656   \n",
            "                                                                 \n",
            " dropout_2 (Dropout)         (None, 256)               0         \n",
            "                                                                 \n",
            " dense_7 (Dense)             (None, 6)                 1542      \n",
            "                                                                 \n",
            "=================================================================\n",
            "Total params: 3,698,166\n",
            "Trainable params: 3,698,038\n",
            "Non-trainable params: 128\n",
            "_________________________________________________________________\n"
          ]
        }
      ],
      "source": [
        "model.summary()"
      ]
    },
    {
      "cell_type": "code",
      "source": [
        "#Fit the model\n",
        "from tensorflow.keras.optimizers import Adam\n",
        "from tensorflow.keras.callbacks import LearningRateScheduler\n",
        "def lr_schedule(epoch):\n",
        "  if epoch < 10:\n",
        "    return 5.0000e-04\n",
        "  else:\n",
        "    return 1.0000e-04\n",
        "  #return list_lr[epoch//5]\n",
        "\n",
        "\n",
        "lr_scheduler = LearningRateScheduler(lr_schedule)\n",
        "\n",
        "# Compile your model with the optimizer and callbacks\n",
        "optimizer = Adam(learning_rate=0.001)\n",
        "model.compile(optimizer=optimizer, loss='categorical_crossentropy', metrics=['accuracy'])\n",
        "epoch = 16\n",
        "# Train your model with the lr_scheduler callback\n",
        "history = model.fit(train, epochs=epoch, validation_data=val, callbacks=[lr_scheduler])"
      ],
      "metadata": {
        "colab": {
          "base_uri": "https://localhost:8080/"
        },
        "id": "_O_Uwsa9rlgR",
        "outputId": "60220b2a-920b-4748-ad9f-b519cc9898aa"
      },
      "execution_count": 93,
      "outputs": [
        {
          "output_type": "stream",
          "name": "stdout",
          "text": [
            "Epoch 1/16\n",
            "55/55 [==============================] - 19s 282ms/step - loss: 2.6471 - accuracy: 0.4739 - val_loss: 2.9989 - val_accuracy: 0.1875 - lr: 5.0000e-04\n",
            "Epoch 2/16\n",
            "55/55 [==============================] - 12s 205ms/step - loss: 1.0796 - accuracy: 0.6534 - val_loss: 4.9727 - val_accuracy: 0.2012 - lr: 5.0000e-04\n",
            "Epoch 3/16\n",
            "55/55 [==============================] - 16s 281ms/step - loss: 0.8182 - accuracy: 0.7364 - val_loss: 6.0144 - val_accuracy: 0.2188 - lr: 5.0000e-04\n",
            "Epoch 4/16\n",
            "55/55 [==============================] - 16s 278ms/step - loss: 0.6035 - accuracy: 0.7937 - val_loss: 7.5572 - val_accuracy: 0.1895 - lr: 5.0000e-04\n",
            "Epoch 5/16\n",
            "55/55 [==============================] - 17s 306ms/step - loss: 0.4835 - accuracy: 0.8426 - val_loss: 5.3427 - val_accuracy: 0.2344 - lr: 5.0000e-04\n",
            "Epoch 6/16\n",
            "55/55 [==============================] - 17s 294ms/step - loss: 0.3624 - accuracy: 0.8824 - val_loss: 3.6796 - val_accuracy: 0.2773 - lr: 5.0000e-04\n",
            "Epoch 7/16\n",
            "55/55 [==============================] - 16s 287ms/step - loss: 0.3294 - accuracy: 0.8938 - val_loss: 3.0042 - val_accuracy: 0.4121 - lr: 5.0000e-04\n",
            "Epoch 8/16\n",
            "55/55 [==============================] - 14s 245ms/step - loss: 0.3416 - accuracy: 0.8938 - val_loss: 1.5775 - val_accuracy: 0.5957 - lr: 5.0000e-04\n",
            "Epoch 9/16\n",
            "55/55 [==============================] - 12s 209ms/step - loss: 0.2958 - accuracy: 0.9097 - val_loss: 0.9895 - val_accuracy: 0.6719 - lr: 5.0000e-04\n",
            "Epoch 10/16\n",
            "55/55 [==============================] - 17s 306ms/step - loss: 0.2539 - accuracy: 0.9182 - val_loss: 0.9567 - val_accuracy: 0.7148 - lr: 5.0000e-04\n",
            "Epoch 11/16\n",
            "55/55 [==============================] - 21s 328ms/step - loss: 0.1582 - accuracy: 0.9500 - val_loss: 0.8137 - val_accuracy: 0.7656 - lr: 1.0000e-04\n",
            "Epoch 12/16\n",
            "55/55 [==============================] - 16s 277ms/step - loss: 0.1368 - accuracy: 0.9591 - val_loss: 0.7129 - val_accuracy: 0.7871 - lr: 1.0000e-04\n",
            "Epoch 13/16\n",
            "55/55 [==============================] - 16s 281ms/step - loss: 0.0979 - accuracy: 0.9710 - val_loss: 0.6325 - val_accuracy: 0.8066 - lr: 1.0000e-04\n",
            "Epoch 14/16\n",
            "55/55 [==============================] - 12s 209ms/step - loss: 0.0869 - accuracy: 0.9727 - val_loss: 0.7456 - val_accuracy: 0.8086 - lr: 1.0000e-04\n",
            "Epoch 15/16\n",
            "55/55 [==============================] - 11s 187ms/step - loss: 0.0882 - accuracy: 0.9710 - val_loss: 0.6880 - val_accuracy: 0.8340 - lr: 1.0000e-04\n",
            "Epoch 16/16\n",
            "55/55 [==============================] - 12s 207ms/step - loss: 0.0855 - accuracy: 0.9727 - val_loss: 0.6777 - val_accuracy: 0.8457 - lr: 1.0000e-04\n"
          ]
        }
      ]
    },
    {
      "cell_type": "markdown",
      "source": [
        "# Evaluate the model"
      ],
      "metadata": {
        "id": "hy8Y6DkJ27Iz"
      }
    },
    {
      "cell_type": "code",
      "execution_count": 195,
      "metadata": {
        "id": "lIYdn1woOS1n",
        "colab": {
          "base_uri": "https://localhost:8080/"
        },
        "outputId": "1820768a-28b7-453d-ddf7-a617a26a172b"
      },
      "outputs": [
        {
          "output_type": "stream",
          "name": "stdout",
          "text": [
            "train accuracy: 100.0%\n",
            "val accuracy: 83.0%\n",
            "test accuracy: 73.0%\n"
          ]
        }
      ],
      "source": [
        "print(f'train accuracy: {tf.round(model.evaluate(train, verbose=0)[1]*100,2)}%')\n",
        "print(f'val accuracy: {tf.round(model.evaluate(val, verbose=0)[1]*100,2)}%')\n",
        "print(f'test accuracy: {tf.round(model.evaluate(test, verbose=0)[1]*100,2)}%')"
      ]
    },
    {
      "cell_type": "code",
      "source": [
        "import matplotlib.pyplot as plt\n",
        "import numpy as np\n",
        "\n",
        "# Create an array of epoch numbers from 0 to the number of epochs\n",
        "epochs = np.arange(epoch)  # Change this to the actual number of epochs\n",
        "\n",
        "# Calculate the learning rates for each epoch using your lr_schedule function\n",
        "learning_rates = [lr_schedule(epoch) for epoch in epochs]\n",
        "\n",
        "# Plot the learning rate schedule\n",
        "plt.figure(figsize=(10, 6))\n",
        "plt.plot(epochs, learning_rates, marker='o', linestyle='-', color='b')\n",
        "plt.title('Learning Rate Schedule')\n",
        "plt.xlabel('Epoch')\n",
        "plt.ylabel('Learning Rate')\n",
        "plt.grid(True)\n",
        "plt.show()\n"
      ],
      "metadata": {
        "colab": {
          "base_uri": "https://localhost:8080/",
          "height": 564
        },
        "id": "tMyqc5Z7rld4",
        "outputId": "999b05b5-1983-45b4-8624-1f996bb27ffc"
      },
      "execution_count": 78,
      "outputs": [
        {
          "output_type": "display_data",
          "data": {
            "text/plain": [
              "<Figure size 1000x600 with 1 Axes>"
            ],
            "image/png": "[encoded data removed]"
          },
          "metadata": {}
        }
      ]
    },
    {
      "cell_type": "code",
      "source": [
        "import seaborn as sns\n",
        "import matplotlib.pyplot as plt\n",
        "from sklearn.metrics import confusion_matrix"
      ],
      "metadata": {
        "id": "2cNyY8-VH4fa"
      },
      "execution_count": 94,
      "outputs": []
    },
    {
      "cell_type": "code",
      "source": [
        "import tensorflow as tf\n",
        "\n",
        "# Create an empty list to store true labels and predicted labels\n",
        "true_labels = []\n",
        "predicted_labels = []\n",
        "\n",
        "# Iterate through the dataset and make predictions\n",
        "for batch in test:\n",
        "    inputs, true_batch_labels = batch  # Assuming your dataset provides both inputs and true labels\n",
        "    predictions = model(inputs, training=False)  # Make predictions using your model\n",
        "\n",
        "    # Convert the true_batch_labels tensor and predictions tensor to NumPy arrays\n",
        "    true_batch_labels = true_batch_labels.numpy()\n",
        "    predictions = predictions.numpy()\n",
        "\n",
        "    true_labels.extend(true_batch_labels)\n",
        "    predicted_labels.extend(tf.argmax(predictions, axis=1).numpy())\n",
        "true_labels = np.array([label for label in true_labels])\n",
        "true_labels = np.argmax(true_labels, axis=1)"
      ],
      "metadata": {
        "id": "wQVnPB-laYzd"
      },
      "execution_count": 131,
      "outputs": []
    },
    {
      "cell_type": "code",
      "source": [
        "cm = confusion_matrix(true_labels,predicted_labels)"
      ],
      "metadata": {
        "id": "l-4LC2Zxmzn7"
      },
      "execution_count": 139,
      "outputs": []
    },
    {
      "cell_type": "code",
      "source": [
        "def plot_confusion_matrix(cm, class_names):\n",
        "    plt.figure(figsize=(8, 6))\n",
        "    ax = sns.heatmap(cm, annot=True, fmt='d', cmap='Blues', cbar=False)\n",
        "\n",
        "    ax.set_xticklabels(class_names)\n",
        "    ax.set_yticklabels(class_names)\n",
        "\n",
        "    plt.xlabel('Predicted Labels')\n",
        "    plt.ylabel('True Labels')\n",
        "    plt.title('Confusion Matrix')\n",
        "\n",
        "    plt.show()"
      ],
      "metadata": {
        "id": "SHJULf2xmzlj"
      },
      "execution_count": 138,
      "outputs": []
    },
    {
      "cell_type": "code",
      "source": [
        "class_names = [ 'trash', 'glass','paper','plastic' , 'cardboard', 'metal']\n",
        "plot_confusion_matrix(cm, class_names)"
      ],
      "metadata": {
        "colab": {
          "base_uri": "https://localhost:8080/",
          "height": 564
        },
        "id": "mX_yW5Drmzg7",
        "outputId": "8129580a-cbfa-4d0e-d32d-8da14f2ee425"
      },
      "execution_count": 186,
      "outputs": [
        {
          "output_type": "display_data",
          "data": {
            "text/plain": [
              "<Figure size 800x600 with 1 Axes>"
            ],
            "image/png": "[encoded data removed]"
          },
          "metadata": {}
        }
      ]
    },
    {
      "cell_type": "markdown",
      "source": [
        "# Load the model"
      ],
      "metadata": {
        "id": "PMWNi6r42e_v"
      }
    },
    {
      "cell_type": "code",
      "source": [
        "from tensorflow.keras.models import load_model\n",
        "model.save(os.path.join('drive/MyDrive/projects/models', 'Garbage___model.h5'))"
      ],
      "metadata": {
        "id": "p0DyO5BIbu4K"
      },
      "execution_count": 153,
      "outputs": []
    }
  ],
  "metadata": {
    "colab": {
      "name": "Welcome To Colaboratory",
      "toc_visible": true,
      "provenance": [],
      "gpuType": "T4"
    },
    "kernelspec": {
      "display_name": "Python 3",
      "name": "python3"
    },
    "accelerator": "GPU"
  },
  "nbformat": 4,
  "nbformat_minor": 0
}